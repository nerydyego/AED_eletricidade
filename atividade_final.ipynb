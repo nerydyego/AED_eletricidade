{
 "cells": [
  {
   "cell_type": "markdown",
   "id": "9bb15cff",
   "metadata": {},
   "source": [
    "# Atividade Final"
   ]
  },
  {
   "cell_type": "code",
   "execution_count": 1,
   "id": "b791275d",
   "metadata": {},
   "outputs": [],
   "source": [
    "import pandas as pd\n",
    "import numpy as np\n",
    "import matplotlib.pyplot as plt\n",
    "import seaborn as sns\n"
   ]
  },
  {
   "cell_type": "code",
   "execution_count": 2,
   "id": "42a5acff",
   "metadata": {},
   "outputs": [
    {
     "data": {
      "text/plain": [
       "(39897, 6)"
      ]
     },
     "execution_count": 2,
     "metadata": {},
     "output_type": "execute_result"
    }
   ],
   "source": [
    "df = pd.read_csv(\"consumo_energia_eletrica.csv\", sep=',')\n",
    "df.shape"
   ]
  },
  {
   "cell_type": "code",
   "execution_count": 3,
   "id": "d4cebdb1",
   "metadata": {},
   "outputs": [
    {
     "data": {
      "text/plain": [
       "ano                     0.000000\n",
       "mes                     0.000000\n",
       "sigla_uf                0.000000\n",
       "tipo_consumo            0.000000\n",
       "numero_consumidores    32.483645\n",
       "consumo                 0.000000\n",
       "dtype: float64"
      ]
     },
     "execution_count": 3,
     "metadata": {},
     "output_type": "execute_result"
    }
   ],
   "source": [
    "separacao = df.isna().sum()\n",
    "final = (separacao / 39897) * 100\n",
    "final"
   ]
  },
  {
   "cell_type": "code",
   "execution_count": 4,
   "id": "743a97cc",
   "metadata": {},
   "outputs": [
    {
     "data": {
      "text/plain": [
       "1017"
      ]
     },
     "execution_count": 4,
     "metadata": {},
     "output_type": "execute_result"
    }
   ],
   "source": [
    "df.duplicated().sum()"
   ]
  },
  {
   "cell_type": "code",
   "execution_count": 5,
   "id": "2a7f252f",
   "metadata": {},
   "outputs": [
    {
     "name": "stdout",
     "output_type": "stream",
     "text": [
      "<class 'pandas.core.frame.DataFrame'>\n",
      "RangeIndex: 39897 entries, 0 to 39896\n",
      "Data columns (total 6 columns):\n",
      " #   Column               Non-Null Count  Dtype  \n",
      "---  ------               --------------  -----  \n",
      " 0   ano                  39897 non-null  int64  \n",
      " 1   mes                  39897 non-null  int64  \n",
      " 2   sigla_uf             39897 non-null  object \n",
      " 3   tipo_consumo         39897 non-null  object \n",
      " 4   numero_consumidores  26937 non-null  float64\n",
      " 5   consumo              39897 non-null  int64  \n",
      "dtypes: float64(1), int64(3), object(2)\n",
      "memory usage: 1.8+ MB\n"
     ]
    }
   ],
   "source": [
    "df.info()"
   ]
  },
  {
   "cell_type": "code",
   "execution_count": 6,
   "id": "83e918e0",
   "metadata": {},
   "outputs": [
    {
     "data": {
      "text/plain": [
       "<bound method NDFrame.describe of         ano  mes sigla_uf tipo_consumo  numero_consumidores  consumo\n",
       "0      2004    1       TO        Total                  NaN    65876\n",
       "1      2004    1       BA        Total                  NaN  1444451\n",
       "2      2004    1       PR        Total                  NaN  1596274\n",
       "3      2004    1       RS        Total                  NaN  1780912\n",
       "4      2004    1       GO        Total                  NaN   630624\n",
       "...     ...  ...      ...          ...                  ...      ...\n",
       "39892  2023   12       BA  Residencial            5932740.0   718461\n",
       "39893  2023   12       PA  Residencial            2614106.0   478726\n",
       "39894  2023   12       AC  Residencial             245699.0    58301\n",
       "39895  2023   12       RN  Residencial            1390080.0   210119\n",
       "39896  2023   12       SC  Residencial            2719791.0   655389\n",
       "\n",
       "[39897 rows x 6 columns]>"
      ]
     },
     "execution_count": 6,
     "metadata": {},
     "output_type": "execute_result"
    }
   ],
   "source": [
    "df.describe"
   ]
  }
 ],
 "metadata": {
  "kernelspec": {
   "display_name": "AED",
   "language": "python",
   "name": "python3"
  },
  "language_info": {
   "codemirror_mode": {
    "name": "ipython",
    "version": 3
   },
   "file_extension": ".py",
   "mimetype": "text/x-python",
   "name": "python",
   "nbconvert_exporter": "python",
   "pygments_lexer": "ipython3",
   "version": "3.11.3"
  }
 },
 "nbformat": 4,
 "nbformat_minor": 5
}
